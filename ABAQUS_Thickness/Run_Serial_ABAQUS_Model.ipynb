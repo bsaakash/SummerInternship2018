{
 "cells": [
  {
   "cell_type": "markdown",
   "metadata": {},
   "source": [
    "Import the necessary packages"
   ]
  },
  {
   "cell_type": "code",
   "execution_count": 1,
   "metadata": {},
   "outputs": [],
   "source": [
    "from UQpy.SampleMethods import MCS\n",
    "from UQpy.RunModel import RunModel\n",
    "import numpy as np\n",
    "import matplotlib.pyplot as plt\n",
    "import scipy.stats as sp\n",
    "import time"
   ]
  },
  {
   "cell_type": "markdown",
   "metadata": {},
   "source": [
    "Define a Rosenbrock pdf (up to a scale factor) and draw samples from it using the component-wise Modified Metropolis Hanstings algorithm. For illustration purposes, we draw 15 samples with jump of 100,000 samples given the very long correlation length for the MMH on the Rosenbrock density. See Goodman and Weare, 2010."
   ]
  },
  {
   "cell_type": "code",
   "execution_count": 2,
   "metadata": {},
   "outputs": [
    {
     "name": "stdout",
     "output_type": "stream",
     "text": [
      "UQpy: Performing MCS design...\n",
      "Done!\n",
      "0.015032529830932617\n",
      "[[0.02937485]\n",
      " [0.02264599]\n",
      " [0.01974517]\n",
      " [0.02688699]\n",
      " [0.02302285]\n",
      " [0.03188027]\n",
      " [0.03394173]\n",
      " [0.02840673]\n",
      " [0.03523907]\n",
      " [0.03515653]\n",
      " [0.02174257]\n",
      " [0.03459664]\n",
      " [0.02090845]\n",
      " [0.01293362]\n",
      " [0.01964656]\n",
      " [0.03242781]\n",
      " [0.01957417]\n",
      " [0.02204411]\n",
      " [0.0276948 ]\n",
      " [0.02928348]]\n"
     ]
    }
   ],
   "source": [
    "t = time.time()\n",
    "mu = 0.0254\n",
    "sigma = 0.005\n",
    "x = MCS(dimension=1, icdf=['Normal'], icdf_params=[[mu,sigma]], nsamples=20)\n",
    "t_MCS = time.time()-t\n",
    "print(t_MCS)\n",
    "print(x.samples)"
   ]
  },
  {
   "cell_type": "markdown",
   "metadata": {},
   "source": [
    "To run a third-party model, the sample points can be read from a text file or they can be directly passed into the RunModel class. In this example, the samples are saved as a text file 'UQpy_Samples.txt' and the RunModel class reads the values from this file."
   ]
  },
  {
   "cell_type": "code",
   "execution_count": 3,
   "metadata": {},
   "outputs": [],
   "source": [
    "np.savetxt('UQpy_Samples.txt', x.samples, fmt='%0.5f')"
   ]
  },
  {
   "cell_type": "markdown",
   "metadata": {},
   "source": [
    "Run the model"
   ]
  },
  {
   "cell_type": "code",
   "execution_count": 4,
   "metadata": {},
   "outputs": [
    {
     "name": "stdout",
     "output_type": "stream",
     "text": [
      "\n",
      "Evaluating the model...\n",
      "\n",
      "1015.3231010437012\n"
     ]
    }
   ],
   "source": [
    "t = time.time()\n",
    "z = RunModel(cpu=1, model_type=None, model_script='UQpy_Model.py', input_script='UQpy_Input.py', output_script='UQpy_Output.py',\n",
    "         dimension=1)\n",
    "t_run = time.time()-t\n",
    "print(t_run)"
   ]
  },
  {
   "cell_type": "markdown",
   "metadata": {},
   "source": [
    "Observe how the data is stored."
   ]
  },
  {
   "cell_type": "code",
   "execution_count": 5,
   "metadata": {},
   "outputs": [
    {
     "name": "stdout",
     "output_type": "stream",
     "text": [
      "Samples: \n",
      " [[0.02937]\n",
      " [0.02265]\n",
      " [0.01975]\n",
      " [0.02689]\n",
      " [0.02302]\n",
      " [0.03188]\n",
      " [0.03394]\n",
      " [0.02841]\n",
      " [0.03524]\n",
      " [0.03516]\n",
      " [0.02174]\n",
      " [0.0346 ]\n",
      " [0.02091]\n",
      " [0.01293]\n",
      " [0.01965]\n",
      " [0.03243]\n",
      " [0.01957]\n",
      " [0.02204]\n",
      " [0.02769]\n",
      " [0.02928]]\n",
      "Solutions: \n",
      " [array(587.79), array(276.07), array(184.75), array(455.22), array(289.46), array(744.61), array(891.26), array(533.91), array(992.46), array(986.03), array(244.85), array(941.78), array(218.45), array(52.875), array(182.01), array(782.15), array(179.84), array(254.87), array(495.64), array(582.6)]\n"
     ]
    }
   ],
   "source": [
    "print('Samples: \\n',z.model_eval.samples)\n",
    "print('Solutions: \\n',z.model_eval.QOI)"
   ]
  },
  {
   "cell_type": "code",
   "execution_count": 6,
   "metadata": {},
   "outputs": [
    {
     "data": {
      "text/plain": [
       "[<matplotlib.lines.Line2D at 0x1e5b5125eb8>]"
      ]
     },
     "execution_count": 6,
     "metadata": {},
     "output_type": "execute_result"
    },
    {
     "data": {
      "image/png": "[encoded data removed]",
      "text/plain": [
       "<Figure size 432x288 with 1 Axes>"
      ]
     },
     "metadata": {},
     "output_type": "display_data"
    }
   ],
   "source": [
    "plt.plot(z.model_eval.samples,z.model_eval.QOI,'o')"
   ]
  },
  {
   "cell_type": "code",
   "execution_count": null,
   "metadata": {},
   "outputs": [],
   "source": []
  },
  {
   "cell_type": "code",
   "execution_count": null,
   "metadata": {},
   "outputs": [],
   "source": []
  }
 ],
 "metadata": {
  "kernelspec": {
   "display_name": "Python 3",
   "language": "python",
   "name": "python3"
  },
  "language_info": {
   "codemirror_mode": {
    "name": "ipython",
    "version": 3
   },
   "file_extension": ".py",
   "mimetype": "text/x-python",
   "name": "python",
   "nbconvert_exporter": "python",
   "pygments_lexer": "ipython3",
   "version": "3.6.4"
  }
 },
 "nbformat": 4,
 "nbformat_minor": 2
}
