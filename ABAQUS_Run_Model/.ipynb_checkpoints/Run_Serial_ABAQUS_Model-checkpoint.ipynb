{
 "cells": [
  {
   "cell_type": "markdown",
   "metadata": {},
   "source": [
    "Import the necessary packages"
   ]
  },
  {
   "cell_type": "code",
   "execution_count": 1,
   "metadata": {},
   "outputs": [],
   "source": [
    "from UQpy.SampleMethods import MCS\n",
    "from UQpy.RunModel import RunModel\n",
    "import numpy as np\n",
    "import matplotlib.pyplot as plt\n",
    "import scipy.stats as sp\n",
    "import time"
   ]
  },
  {
   "cell_type": "markdown",
   "metadata": {},
   "source": [
    "Define a Rosenbrock pdf (up to a scale factor) and draw samples from it using the component-wise Modified Metropolis Hanstings algorithm. For illustration purposes, we draw 15 samples with jump of 100,000 samples given the very long correlation length for the MMH on the Rosenbrock density. See Goodman and Weare, 2010."
   ]
  },
  {
   "cell_type": "code",
   "execution_count": 2,
   "metadata": {},
   "outputs": [
    {
     "name": "stdout",
     "output_type": "stream",
     "text": [
      "UQpy: Performing MCS design...\n",
      "Done!\n",
      "0.0\n",
      "[[7.06337470e+10]\n",
      " [7.07742188e+10]]\n"
     ]
    }
   ],
   "source": [
    "t = time.time()\n",
    "mu = 70e9\n",
    "sigma = 1e9\n",
    "x = MCS(dimension=1, icdf=['Normal'], icdf_params=[[mu,sigma]], nsamples=2)\n",
    "t_MCS = time.time()-t\n",
    "print(t_MCS)\n",
    "print(x.samples)"
   ]
  },
  {
   "cell_type": "markdown",
   "metadata": {},
   "source": [
    "To run a third-party model, the sample points can be read from a text file or they can be directly passed into the RunModel class. In this example, the samples are saved as a text file 'UQpy_Samples.txt' and the RunModel class reads the values from this file."
   ]
  },
  {
   "cell_type": "code",
   "execution_count": 3,
   "metadata": {},
   "outputs": [],
   "source": [
    "np.savetxt('UQpy_Samples.txt', x.samples, fmt='%0.5f')"
   ]
  },
  {
   "cell_type": "markdown",
   "metadata": {},
   "source": [
    "Run the model"
   ]
  },
  {
   "cell_type": "code",
   "execution_count": 4,
   "metadata": {},
   "outputs": [
    {
     "name": "stdout",
     "output_type": "stream",
     "text": [
      "\n",
      "Evaluating the model...\n",
      "\n",
      "113.44652485847473\n"
     ]
    }
   ],
   "source": [
    "t = time.time()\n",
    "z = RunModel(cpu=1, model_type=None, model_script='UQpy_Model.py', input_script='UQpy_Input.py', output_script='UQpy_Output.py',\n",
    "         dimension=1)\n",
    "t_run = time.time()-t\n",
    "print(t_run)"
   ]
  },
  {
   "cell_type": "markdown",
   "metadata": {},
   "source": [
    "Observe how the data is stored."
   ]
  },
  {
   "cell_type": "code",
   "execution_count": 5,
   "metadata": {},
   "outputs": [
    {
     "name": "stdout",
     "output_type": "stream",
     "text": [
      "Samples: \n",
      " [[7.063375e+10]\n",
      " [7.077422e+10]]\n",
      "Solutions: \n",
      " [array(2721450.), array(2726610.)]\n"
     ]
    }
   ],
   "source": [
    "print('Samples: \\n',z.model_eval.samples)\n",
    "print('Solutions: \\n',z.model_eval.QOI)"
   ]
  },
  {
   "cell_type": "code",
   "execution_count": null,
   "metadata": {},
   "outputs": [],
   "source": []
  }
 ],
 "metadata": {
  "kernelspec": {
   "display_name": "Python 3",
   "language": "python",
   "name": "python3"
  },
  "language_info": {
   "codemirror_mode": {
    "name": "ipython",
    "version": 3
   },
   "file_extension": ".py",
   "mimetype": "text/x-python",
   "name": "python",
   "nbconvert_exporter": "python",
   "pygments_lexer": "ipython3",
   "version": "3.6.4"
  }
 },
 "nbformat": 4,
 "nbformat_minor": 2
}
