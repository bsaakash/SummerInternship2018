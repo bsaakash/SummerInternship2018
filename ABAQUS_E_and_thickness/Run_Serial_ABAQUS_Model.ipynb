{
 "cells": [
  {
   "cell_type": "markdown",
   "metadata": {},
   "source": [
    "Import the necessary packages"
   ]
  },
  {
   "cell_type": "code",
   "execution_count": 1,
   "metadata": {},
   "outputs": [],
   "source": [
    "from UQpy.SampleMethods import MCS\n",
    "from UQpy.RunModel import RunModel\n",
    "import numpy as np\n",
    "import matplotlib.pyplot as plt\n",
    "import scipy.stats as sp\n",
    "import time"
   ]
  },
  {
   "cell_type": "markdown",
   "metadata": {},
   "source": [
    "Define a Rosenbrock pdf (up to a scale factor) and draw samples from it using the component-wise Modified Metropolis Hanstings algorithm. For illustration purposes, we draw 15 samples with jump of 100,000 samples given the very long correlation length for the MMH on the Rosenbrock density. See Goodman and Weare, 2010."
   ]
  },
  {
   "cell_type": "code",
   "execution_count": 2,
   "metadata": {},
   "outputs": [
    {
     "name": "stdout",
     "output_type": "stream",
     "text": [
      "UQpy: Performing MCS design...\n",
      "Done!\n",
      "0.01522207260131836\n",
      "[[6.80616727e+10 2.86908468e-02]\n",
      " [6.68960433e+10 2.42910819e-02]\n",
      " [7.10205628e+10 2.70569012e-02]\n",
      " [6.93001152e+10 2.44913973e-02]\n",
      " [6.89919178e+10 2.13412682e-02]\n",
      " [7.26184079e+10 2.78834949e-02]\n",
      " [6.95362081e+10 2.30575736e-02]\n",
      " [7.07217027e+10 2.86897641e-02]\n",
      " [7.02513335e+10 2.63995042e-02]\n",
      " [6.90902702e+10 2.47400195e-02]\n",
      " [6.86786242e+10 2.61900034e-02]\n",
      " [7.10278271e+10 2.38015852e-02]\n",
      " [7.16965715e+10 2.69305312e-02]\n",
      " [7.03368848e+10 2.70052359e-02]\n",
      " [7.15838168e+10 2.76770463e-02]\n",
      " [7.05210133e+10 2.86795264e-02]\n",
      " [7.04145000e+10 2.96418398e-02]\n",
      " [7.02411440e+10 2.03154323e-02]\n",
      " [7.07904969e+10 2.32560129e-02]\n",
      " [6.95798115e+10 3.01018945e-02]]\n"
     ]
    }
   ],
   "source": [
    "t = time.time()\n",
    "mu1 = 70e9\n",
    "sigma1 = 1e9\n",
    "mu2 = 0.0254\n",
    "sigma2 = 0.00254\n",
    "x = MCS(dimension=2, icdf=['Normal','Normal'], icdf_params=[[mu1,sigma1],[mu2,sigma2]], nsamples=20)\n",
    "t_MCS = time.time()-t\n",
    "print(t_MCS)\n",
    "print(x.samples)"
   ]
  },
  {
   "cell_type": "markdown",
   "metadata": {},
   "source": [
    "To run a third-party model, the sample points can be read from a text file or they can be directly passed into the RunModel class. In this example, the samples are saved as a text file 'UQpy_Samples.txt' and the RunModel class reads the values from this file."
   ]
  },
  {
   "cell_type": "code",
   "execution_count": 3,
   "metadata": {},
   "outputs": [],
   "source": [
    "np.savetxt('UQpy_Samples.txt', x.samples, fmt='%0.5f')"
   ]
  },
  {
   "cell_type": "markdown",
   "metadata": {},
   "source": [
    "Run the model"
   ]
  },
  {
   "cell_type": "code",
   "execution_count": 4,
   "metadata": {},
   "outputs": [
    {
     "name": "stdout",
     "output_type": "stream",
     "text": [
      "\n",
      "Evaluating the model...\n",
      "\n",
      "1051.1156737804413\n"
     ]
    }
   ],
   "source": [
    "t = time.time()\n",
    "z = RunModel(cpu=1, model_type=None, model_script='UQpy_Model.py', input_script='UQpy_Input.py', output_script='UQpy_Output.py',\n",
    "         dimension=1)\n",
    "t_run = time.time()-t\n",
    "print(t_run)"
   ]
  },
  {
   "cell_type": "markdown",
   "metadata": {},
   "source": [
    "Observe how the data is stored."
   ]
  },
  {
   "cell_type": "code",
   "execution_count": 5,
   "metadata": {},
   "outputs": [
    {
     "name": "stdout",
     "output_type": "stream",
     "text": [
      "Samples: \n",
      " [[6.8061671e+10 2.8689999e-02]\n",
      " [6.6896044e+10 2.4289999e-02]\n",
      " [7.1020560e+10 2.7060000e-02]\n",
      " [6.9300118e+10 2.4490001e-02]\n",
      " [6.8991918e+10 2.1340000e-02]\n",
      " [7.2618410e+10 2.7880000e-02]\n",
      " [6.9536211e+10 2.3060000e-02]\n",
      " [7.0721700e+10 2.8689999e-02]\n",
      " [7.0251332e+10 2.6400000e-02]\n",
      " [6.9090271e+10 2.4739999e-02]\n",
      " [6.8678623e+10 2.6190000e-02]\n",
      " [7.1027827e+10 2.3800001e-02]\n",
      " [7.1696572e+10 2.6930001e-02]\n",
      " [7.0336889e+10 2.7009999e-02]\n",
      " [7.1583818e+10 2.7680000e-02]\n",
      " [7.0521012e+10 2.8680000e-02]\n",
      " [7.0414500e+10 2.9640000e-02]\n",
      " [7.0241141e+10 2.0320000e-02]\n",
      " [7.0790496e+10 2.3259999e-02]\n",
      " [6.9579809e+10 3.0099999e-02]]\n",
      "Solutions: \n",
      " [array(3738560.), array(2265120.), array(3292720.), array(2403310.), array(1599780.), array(3671300.), array(2023050.), array(3884670.), array(3031610.), array(2468030.), array(2895770.), array(2266180.), array(3277920.), array(3243550.), array(3544270.), array(3869720.), array(4249810.), array(1410790.), array(2112160.), array(4390450.)]\n"
     ]
    }
   ],
   "source": [
    "print('Samples: \\n',z.model_eval.samples)\n",
    "print('Solutions: \\n',z.model_eval.QOI)"
   ]
  },
  {
   "cell_type": "code",
   "execution_count": 13,
   "metadata": {
    "scrolled": true
   },
   "outputs": [
    {
     "data": {
      "image/png": "[encoded data removed]",
      "text/plain": [
       "<Figure size 432x288 with 2 Axes>"
      ]
     },
     "metadata": {},
     "output_type": "display_data"
    }
   ],
   "source": [
    "fig, (ax1,ax2) = plt.subplots(nrows=1,ncols=2)\n",
    "\n",
    "ax1.set(title='MCS design',xlabel='Young''s modulus',ylabel='Moment capacity')\n",
    "ax1.scatter(x.samples[:, 0], z.model_eval.QOI)\n",
    "ax1.yaxis.grid(True)\n",
    "ax1.xaxis.grid(True)\n",
    "\n",
    "ax2.set(title='MCS design',xlabel='Thickness',yticklabels=[])\n",
    "ax2.scatter(x.samples[:, 1], z.model_eval.QOI)\n",
    "ax2.yaxis.grid(True)\n",
    "ax2.xaxis.grid(True)\n",
    "plt.xlim(xmax=max(x.samples[:,1]*1.05),xmin=min(x.samples[:,1])*0.95)\n",
    "\n",
    "plt.show()"
   ]
  },
  {
   "cell_type": "code",
   "execution_count": null,
   "metadata": {},
   "outputs": [],
   "source": []
  }
 ],
 "metadata": {
  "kernelspec": {
   "display_name": "Python 3",
   "language": "python",
   "name": "python3"
  },
  "language_info": {
   "codemirror_mode": {
    "name": "ipython",
    "version": 3
   },
   "file_extension": ".py",
   "mimetype": "text/x-python",
   "name": "python",
   "nbconvert_exporter": "python",
   "pygments_lexer": "ipython3",
   "version": "3.6.4"
  }
 },
 "nbformat": 4,
 "nbformat_minor": 2
}
